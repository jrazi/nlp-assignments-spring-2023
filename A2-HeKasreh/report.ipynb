{
 "cells": [
  {
   "cell_type": "code",
   "execution_count": 1,
   "metadata": {
    "tags": []
   },
   "outputs": [
    {
     "data": {
      "text/html": [
       "<style>.jp-MarkdownOutput {\n",
       "    direction: rtl;\n",
       "    text-align: right;\n",
       "    font-family: 'Vazir', 'B Nazanin', 'B Lotus', 'Arial', 'Verdana'\n",
       "}\n",
       ".jp-* {\n",
       "    direction: rtl;\n",
       "    text-align: right;\n",
       "    font-family: 'Vazir', 'B Nazanin', 'B Lotus', 'Arial', 'Verdana'\n",
       "}\n",
       "\n",
       "h3, h4, h5 {\n",
       "    padding: 0px;\n",
       "    margin: 0px;\n",
       "}\n",
       "div, span {\n",
       "    font-size: 15px;\n",
       "}\n",
       "</style>"
      ],
      "text/plain": [
       "<IPython.core.display.HTML object>"
      ]
     },
     "execution_count": 1,
     "metadata": {},
     "output_type": "execute_result"
    }
   ],
   "source": [
    "# Set notebook style\n",
    "from IPython.core.display import HTML\n",
    "\n",
    "def _set_css_style():\n",
    "   styles = open(\"./assets/report/style.css\", \"r\").read()\n",
    "   s = '<style>%s</style>' % styles     \n",
    "   return HTML(s)\n",
    "_set_css_style()"
   ]
  },
  {
   "cell_type": "markdown",
   "metadata": {},
   "source": [
    "<h3><center>تمرین دوم درس پردازش زبان‌های طبیعی</center></h3>\n",
    "<h4><center>چالش درست‌کردن هه کسره (گروه چهار)</center></h4>\n",
    "<table width='100%' style=\"border: none;\">\n",
    "    <tr style=\"border: none; text-align: center;\">\n",
    "        <td style=\"border: none;\"><h5>علیرضا بلال</h5></td>\n",
    "        <td style=\"border: none;\"><h5>زهرا رجالی</h5></td>\n",
    "        <td style=\"border: none;\"><h5>جواد راضی</h5></td>\n",
    "    </tr>\n",
    "</table>\n",
    "<h5 style=\"font-size: 16px;\"><center> ترم ۴۰۱۲ </center></h5>\n",
    "<br/>\n",
    "<hr/>\n",
    "<br/>"
   ]
  },
  {
   "cell_type": "markdown",
   "metadata": {},
   "source": [
    "<h3>\n",
    "    خلاصه کارهای صورت‌گرفته\n",
    "</h3>\n",
    "<span>\n",
    "    در این تمرین، ماژولی را توسعه داده‌ایم که با دریافت یک متن فارسی به عنوان ورودی، ایرادات موسوم به «هکسره» آن را یافته، رفع کرده و متنی بدون خطاهای هکسره را برمی‌گرداند. \n",
    "</span>\n",
    "<br/>\n",
    "<span>\n",
    "    {بیان ایده برای نحوه یافتن غلط هکسره}\n",
    "</span>\n",
    "<span>\n",
    "    {ابزارها و پکیج‌های استفاده شده}\n",
    "</span>\n",
    "<span>\n",
    "    {نتایج دستیابی‌شده در تمرین}\n",
    "</span>\n"
   ]
  },
  {
   "cell_type": "markdown",
   "metadata": {},
   "source": [
    "<h3>\n",
    "    خطای هه کسره\n",
    "</h3>\n",
    "<div>\n",
    "    توضیحات کلی در مورد خطای هه کسره و قواعد تشخیصش \n",
    "</div>"
   ]
  },
  {
   "cell_type": "markdown",
   "metadata": {},
   "source": [
    "<h3>\n",
    "    نصب پکیج‌ها و ابزارهای موجود\n",
    "</h3>\n",
    "<div>\n",
    "    توضیحات\n",
    "</div>"
   ]
  },
  {
   "cell_type": "code",
   "execution_count": 2,
   "metadata": {},
   "outputs": [],
   "source": [
    "try:\n",
    "    import hazm\n",
    "except:\n",
    "    !pip install hazm"
   ]
  },
  {
   "cell_type": "markdown",
   "metadata": {},
   "source": [
    "<h3>\n",
    "    هم‌خوان‌سازی کد با کتاب‌خانه parsi-io\n",
    "</h3>\n",
    "<div>\n",
    "    توضیحات\n",
    "</div>"
   ]
  },
  {
   "cell_type": "markdown",
   "metadata": {},
   "source": [
    "<h3>\n",
    "    یافتن و تصحیح ایرادات هه کسره\n",
    "</h3>\n",
    "<div>\n",
    "</div>\n",
    "\n",
    "<h4>\n",
    "    بیان روش کلی\n",
    "</h4>\n",
    "<div>\n",
    "    توضیحات\n",
    "</div>"
   ]
  },
  {
   "cell_type": "markdown",
   "metadata": {},
   "source": [
    "<h3>\n",
    "    پیاده‌سازی کلاس HeKasraExtractor\n",
    "</h3>\n",
    "<div>\n",
    "    توضیحات\n",
    "</div>"
   ]
  },
  {
   "cell_type": "code",
   "execution_count": 3,
   "metadata": {},
   "outputs": [],
   "source": [
    "class HeKasraExtractor:\n",
    "    def __init__(self):\n",
    "        pass\n",
    "    \n",
    "    def run(self, input_sentence):\n",
    "        return_value = []        \n",
    "        return return_value\n"
   ]
  },
  {
   "cell_type": "markdown",
   "metadata": {},
   "source": [
    "<h3>\n",
    "    ارزیابی ماژول\n",
    "</h3>\n",
    "<div>\n",
    "    توضیحات\n",
    "</div>"
   ]
  },
  {
   "cell_type": "markdown",
   "metadata": {},
   "source": [
    "<h4>\n",
    "    خطای ه اضافه بجای نقش‌نمای اضافه\n",
    "</h4>\n",
    "<div>\n",
    "    توضیحات\n",
    "</div>"
   ]
  },
  {
   "cell_type": "code",
   "execution_count": 4,
   "metadata": {},
   "outputs": [],
   "source": [
    "pass"
   ]
  },
  {
   "cell_type": "markdown",
   "metadata": {},
   "source": [
    "<h4>\n",
    "    خطای عدم جای‌گذاری هکسره\n",
    "</h4>\n",
    "<div>\n",
    "    توضیحات\n",
    "</div>"
   ]
  },
  {
   "cell_type": "code",
   "execution_count": 5,
   "metadata": {},
   "outputs": [],
   "source": [
    "pass"
   ]
  },
  {
   "cell_type": "markdown",
   "metadata": {},
   "source": [
    "<h3>\n",
    "    تست عملکرد ماژول با تست‌های اتوماتیک\n",
    "</h3>\n",
    "<div>\n",
    "    توضیحات\n",
    "</div>"
   ]
  },
  {
   "cell_type": "code",
   "execution_count": 6,
   "metadata": {},
   "outputs": [],
   "source": [
    "class HeHasraTests:\n",
    "    pass"
   ]
  }
 ],
 "metadata": {
  "kernelspec": {
   "display_name": "Python 3 (ipykernel)",
   "language": "python",
   "name": "python3"
  },
  "language_info": {
   "codemirror_mode": {
    "name": "ipython",
    "version": 3
   },
   "file_extension": ".py",
   "mimetype": "text/x-python",
   "name": "python",
   "nbconvert_exporter": "python",
   "pygments_lexer": "ipython3",
   "version": "3.7.13"
  }
 },
 "nbformat": 4,
 "nbformat_minor": 4
}
