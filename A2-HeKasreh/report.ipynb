{
 "cells": [
  {
   "cell_type": "code",
   "execution_count": 6,
   "metadata": {},
   "outputs": [
    {
     "data": {
      "text/html": [
       "<style>\n",
       "    .jp-MarkdownOutput {\n",
       "        direction: rtl;\n",
       "        text-align: right;\n",
       "        font-family: 'Vazir', 'B Nazanin', 'B Lotus', 'Arial', 'Verdana'\n",
       "    }\n",
       "    table, body, div, p, span {\n",
       "        direction: rtl;\n",
       "        text-align: right;\n",
       "        font-family: 'Vazir', 'B Nazanin', 'B Lotus', 'Arial', 'Verdana'\n",
       "    }\n",
       "    h4, h5 {\n",
       "        padding: 0px;\n",
       "        margin: 0px;\n",
       "    }\n",
       "    div, span {\n",
       "        font-size: 14px;\n",
       "    }\n",
       "</style>\n"
      ],
      "text/plain": [
       "<IPython.core.display.HTML object>"
      ]
     },
     "metadata": {},
     "output_type": "display_data"
    }
   ],
   "source": [
    "%%html\n",
    "<style>\n",
    "    .jp-MarkdownOutput {\n",
    "        direction: rtl;\n",
    "        text-align: right;\n",
    "        font-family: 'Vazir', 'B Nazanin', 'B Lotus', 'Arial', 'Verdana'\n",
    "    }\n",
    "    table, body, div, p, span {\n",
    "        direction: rtl;\n",
    "        text-align: right;\n",
    "        font-family: 'Vazir', 'B Nazanin', 'B Lotus', 'Arial', 'Verdana'\n",
    "    }\n",
    "    h4, h5 {\n",
    "        padding: 0px;\n",
    "        margin: 0px;\n",
    "    }\n",
    "    div, span {\n",
    "        font-size: 14px;\n",
    "    }\n",
    "</style>"
   ]
  },
  {
   "attachments": {},
   "cell_type": "markdown",
   "metadata": {},
   "source": [
    "<h3><center>تمرین دوم درس پردازش زبان‌های طبیعی</center></h3>\n",
    "<h5><center> ( گروه چهار ) </center></h5>\n",
    "<table width='100%' style=\"border: none;\">\n",
    "    <tr style=\"border: none; text-align: center;\">\n",
    "        <td style=\"border: none;\"><h5>علیرضا بلال</h5></td>\n",
    "        <td style=\"border: none;\"><h5>زهرا رجالی</h5></td>\n",
    "        <td style=\"border: none;\"><h5>جواد راضی</h5></td>\n",
    "    </tr>\n",
    "</table>\n",
    "<div style=\"font-size: 16px;\"><center> ترم ۴۰۱۲ </center></div>\n",
    "<br>"
   ]
  },
  {
   "cell_type": "markdown",
   "metadata": {},
   "source": []
  }
 ],
 "metadata": {
  "kernelspec": {
   "display_name": "Python 3",
   "language": "python",
   "name": "python3"
  },
  "language_info": {
   "codemirror_mode": {
    "name": "ipython",
    "version": 3
   },
   "file_extension": ".py",
   "mimetype": "text/x-python",
   "name": "python",
   "nbconvert_exporter": "python",
   "pygments_lexer": "ipython3",
   "version": "3.10.4"
  },
  "orig_nbformat": 4
 },
 "nbformat": 4,
 "nbformat_minor": 2
}
